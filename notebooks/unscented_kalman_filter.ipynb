{
 "cells": [
  {
   "cell_type": "code",
   "execution_count": null,
   "id": "87395659-6d24-4317-ae65-3a8b05965cb9",
   "metadata": {},
   "outputs": [],
   "source": [
    "import numpy as np\n",
    "import matplotlib.pyplot as plt\n",
    "import pykitti\n",
    "import sys\n",
    "from tqdm import tqdm\n",
    "import sympy\n",
    "from sympy.abc import alpha, x, y, v, w, R, theta\n",
    "from sympy import symbols, Matrix\n",
    "from sklearn.metrics import mean_squared_error\n",
    "from ahrs.filters import AngularRate\n",
    "sys.path.append('../src')\n",
    "\n",
    "from filterpy.kalman import ExtendedKalmanFilter\n",
    "from utils import lla_to_enu, normalize_angles, get_rigid_transformation\n",
    "\n",
    "%matplotlib inline\n",
    "np.random.seed(777)"
   ]
  }
 ],
 "metadata": {
  "kernelspec": {
   "display_name": "Python 3 (ipykernel)",
   "language": "python",
   "name": "python3"
  },
  "language_info": {
   "codemirror_mode": {
    "name": "ipython",
    "version": 3
   },
   "file_extension": ".py",
   "mimetype": "text/x-python",
   "name": "python",
   "nbconvert_exporter": "python",
   "pygments_lexer": "ipython3",
   "version": "3.10.1"
  }
 },
 "nbformat": 4,
 "nbformat_minor": 5
}
