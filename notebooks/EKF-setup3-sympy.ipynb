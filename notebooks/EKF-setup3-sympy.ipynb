{
 "cells": [
  {
   "cell_type": "code",
   "execution_count": 19,
   "id": "f7db808d-ed4d-409d-bc4f-04bce0828b79",
   "metadata": {},
   "outputs": [],
   "source": [
    "import numpy as np\n",
    "import sympy\n",
    "from sympy.abc import alpha, x, y, v, w, R, theta\n",
    "from sympy import symbols, Matrix"
   ]
  },
  {
   "cell_type": "code",
   "execution_count": 20,
   "id": "18f9f07a-9951-44b5-a4c8-848c37ca2abc",
   "metadata": {},
   "outputs": [],
   "source": [
    "px = symbols('p_{x}')\n",
    "py = symbols('p_{y}')\n",
    "theta = symbols('theta')\n",
    "v = symbols('v')\n",
    "w = symbols('w')\n",
    "dt = symbols('dt')"
   ]
  },
  {
   "cell_type": "code",
   "execution_count": 21,
   "id": "d0408a73-3fdd-4c73-a6c2-3d5adfbef0aa",
   "metadata": {},
   "outputs": [
    {
     "data": {
      "text/latex": [
       "$\\displaystyle \\left[\\begin{matrix}p_{x} - \\frac{v \\sin{\\left(\\theta \\right)}}{w} + \\frac{v \\sin{\\left(dt w + \\theta \\right)}}{w}\\\\p_{y} + \\frac{v \\cos{\\left(\\theta \\right)}}{w} - \\frac{v \\cos{\\left(dt w + \\theta \\right)}}{w}\\\\dt w + \\theta\\end{matrix}\\right]$"
      ],
      "text/plain": [
       "Matrix([\n",
       "[p_{x} - v*sin(theta)/w + v*sin(dt*w + theta)/w],\n",
       "[p_{y} + v*cos(theta)/w - v*cos(dt*w + theta)/w],\n",
       "[                                  dt*w + theta]])"
      ]
     },
     "execution_count": 21,
     "metadata": {},
     "output_type": "execute_result"
    }
   ],
   "source": [
    "fxu = Matrix([\n",
    "    [px - v*sympy.sin(theta)/w + v*sympy.sin(theta + w*dt)/w],\n",
    "    [py + v*sympy.cos(theta)/w - v*sympy.cos(theta + w*dt)/w],\n",
    "    [theta + w*dt]\n",
    "])\n",
    "fxu"
   ]
  },
  {
   "cell_type": "code",
   "execution_count": 22,
   "id": "fb5a5f39-5ce6-4cb7-8a33-ba2f816b2c2a",
   "metadata": {},
   "outputs": [],
   "source": [
    "state_x = Matrix([px, py, theta])\n",
    "control_input = Matrix([v, w])"
   ]
  },
  {
   "cell_type": "code",
   "execution_count": 23,
   "id": "6c9ddb68-5c87-4c76-9d1f-83ebe5047ff3",
   "metadata": {},
   "outputs": [
    {
     "data": {
      "text/latex": [
       "$\\displaystyle \\left[\\begin{matrix}1 & 0 & - \\frac{v \\cos{\\left(\\theta \\right)}}{w} + \\frac{v \\cos{\\left(dt w + \\theta \\right)}}{w}\\\\0 & 1 & - \\frac{v \\sin{\\left(\\theta \\right)}}{w} + \\frac{v \\sin{\\left(dt w + \\theta \\right)}}{w}\\\\0 & 0 & 1\\end{matrix}\\right]$"
      ],
      "text/plain": [
       "Matrix([\n",
       "[1, 0, -v*cos(theta)/w + v*cos(dt*w + theta)/w],\n",
       "[0, 1, -v*sin(theta)/w + v*sin(dt*w + theta)/w],\n",
       "[0, 0,                                       1]])"
      ]
     },
     "execution_count": 23,
     "metadata": {},
     "output_type": "execute_result"
    }
   ],
   "source": [
    "F = fxu.jacobian(state_x)\n",
    "F"
   ]
  },
  {
   "cell_type": "code",
   "execution_count": 24,
   "id": "74264b02-3392-43eb-976d-32e217dd9ba8",
   "metadata": {},
   "outputs": [
    {
     "data": {
      "text/latex": [
       "$\\displaystyle \\left[\\begin{matrix}- \\frac{\\sin{\\left(\\theta \\right)}}{w} + \\frac{\\sin{\\left(dt w + \\theta \\right)}}{w} & \\frac{dt v \\cos{\\left(dt w + \\theta \\right)}}{w} + \\frac{v \\sin{\\left(\\theta \\right)}}{w^{2}} - \\frac{v \\sin{\\left(dt w + \\theta \\right)}}{w^{2}}\\\\\\frac{\\cos{\\left(\\theta \\right)}}{w} - \\frac{\\cos{\\left(dt w + \\theta \\right)}}{w} & \\frac{dt v \\sin{\\left(dt w + \\theta \\right)}}{w} - \\frac{v \\cos{\\left(\\theta \\right)}}{w^{2}} + \\frac{v \\cos{\\left(dt w + \\theta \\right)}}{w^{2}}\\\\0 & dt\\end{matrix}\\right]$"
      ],
      "text/plain": [
       "Matrix([\n",
       "[-sin(theta)/w + sin(dt*w + theta)/w, dt*v*cos(dt*w + theta)/w + v*sin(theta)/w**2 - v*sin(dt*w + theta)/w**2],\n",
       "[ cos(theta)/w - cos(dt*w + theta)/w, dt*v*sin(dt*w + theta)/w - v*cos(theta)/w**2 + v*cos(dt*w + theta)/w**2],\n",
       "[                                  0,                                                                      dt]])"
      ]
     },
     "execution_count": 24,
     "metadata": {},
     "output_type": "execute_result"
    }
   ],
   "source": [
    "G = fux.jacobian(control_input)\n",
    "G"
   ]
  },
  {
   "cell_type": "code",
   "execution_count": 26,
   "id": "1eb4b273-79d2-4a9d-bef0-773c40f655e1",
   "metadata": {},
   "outputs": [
    {
     "data": {
      "text/plain": [
       "array([[0.09983342],\n",
       "       [0.00499583],\n",
       "       [0.1       ]])"
      ]
     },
     "execution_count": 26,
     "metadata": {},
     "output_type": "execute_result"
    }
   ],
   "source": [
    "values = {\n",
    "    px: 0,\n",
    "    py: 0,\n",
    "    theta: 0,\n",
    "    v: 1,\n",
    "    w: 1,\n",
    "    dt: 0.1\n",
    "}\n",
    "\n",
    "x_ = np.array(fxu.evalf(subs=values)).astype(float)\n",
    "x_"
   ]
  },
  {
   "cell_type": "code",
   "execution_count": 27,
   "id": "9ac995f6-2420-4405-b812-bca70b242ce3",
   "metadata": {},
   "outputs": [],
   "source": [
    "# process noise\n",
    "Q = np.array([\n",
    "    [0.1, 0.],\n",
    "    [0., 0.1],\n",
    "])\n",
    "P = np.array([\n",
    "    [0.1, 0., 0.],\n",
    "    [0., 0.1, 0.],\n",
    "    [0., 0., 0.1]\n",
    "])"
   ]
  },
  {
   "cell_type": "code",
   "execution_count": 32,
   "id": "095c5fab-5368-4e81-87b9-6b1b2d8704e2",
   "metadata": {},
   "outputs": [
    {
     "data": {
      "text/plain": [
       "array([[ 1.00999178e-01, -1.66084041e-07, -5.02913473e-04],\n",
       "       [-1.66084041e-07,  1.01001654e-01,  1.00332167e-02],\n",
       "       [-5.02913473e-04,  1.00332167e-02,  1.01000000e-01]])"
      ]
     },
     "execution_count": 32,
     "metadata": {},
     "output_type": "execute_result"
    }
   ],
   "source": [
    "P_hat = F * Matrix(P) * F.T + G * Matrix(Q) * G.T\n",
    "P_ = np.array(P_hat.evalf(subs=values)).astype(float)\n",
    "P_"
   ]
  },
  {
   "cell_type": "code",
   "execution_count": null,
   "id": "3c5c0ea4-610b-4845-be1a-e02981e7d452",
   "metadata": {},
   "outputs": [],
   "source": []
  }
 ],
 "metadata": {
  "kernelspec": {
   "display_name": "Python 3 (ipykernel)",
   "language": "python",
   "name": "python3"
  },
  "language_info": {
   "codemirror_mode": {
    "name": "ipython",
    "version": 3
   },
   "file_extension": ".py",
   "mimetype": "text/x-python",
   "name": "python",
   "nbconvert_exporter": "python",
   "pygments_lexer": "ipython3",
   "version": "3.10.1"
  }
 },
 "nbformat": 4,
 "nbformat_minor": 5
}
