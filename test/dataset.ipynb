{
 "cells": [
  {
   "cell_type": "code",
   "execution_count": 9,
   "metadata": {},
   "outputs": [],
   "source": [
    "import numpy as np\n",
    "import pandas as pd\n",
    "import matplotlib.pyplot as plt\n",
    "import pykitti\n",
    "import sys\n",
    "from sklearn.metrics import mean_squared_error\n",
    "sys.path.append('../src')\n",
    "\n",
    "from filterpy.kalman import ExtendedKalmanFilter\n",
    "from utils import lla_to_enu, normalize_angles\n",
    "\n",
    "%matplotlib inline\n",
    "np.random.seed(777)"
   ]
  },
  {
   "cell_type": "code",
   "execution_count": 10,
   "metadata": {},
   "outputs": [],
   "source": [
    "kitti_root_dir = '../data'\n",
    "kitti_date = '2011_09_30'\n",
    "kitti_drive = '0020'\n",
    "\n",
    "dataset = pykitti.raw(kitti_root_dir, kitti_date, kitti_drive)"
   ]
  },
  {
   "cell_type": "code",
   "execution_count": 12,
   "metadata": {},
   "outputs": [],
   "source": [
    "raw_data = []\n",
    "for oxts_data in dataset.oxts:\n",
    "    packet = oxts_data.packet\n",
    "    raw_data.append([\n",
    "        packet.roll,\n",
    "        packet.pitch,\n",
    "        packet.yaw,\n",
    "        packet.vn,\n",
    "        packet.ve,\n",
    "        packet.vf,\n",
    "        packet.vl,\n",
    "        packet.vu,\n",
    "\n",
    "        packet.ax,\n",
    "        packet.ay,\n",
    "        packet.az,\n",
    "        packet.af,\n",
    "        packet.al,\n",
    "        packet.au,\n",
    "\n",
    "        packet.wx,\n",
    "        packet.wy,\n",
    "        packet.wz,\n",
    "        packet.wf,\n",
    "        packet.wl,\n",
    "        packet.wu\n",
    "    ])"
   ]
  },
  {
   "cell_type": "code",
   "execution_count": 14,
   "metadata": {},
   "outputs": [],
   "source": [
    "column_names = [\"roll\", \"pitch\", \"yaw\", \"vn(velocity towards north)\", \"ve(velocity towards east)\", \"vf(forward velocity)\", \"vl(leftward velocity)\", \"vu(upward velocity)\", \"ax(acceleration in x)\", \"ay(acceleration in y)\", \"az(acceleration in z)\", \"af(forward acceleration)\", \"al(leftward acceleration)\", \"au(upward acceleration)\", \"wx(angular rate around x)\", \"wy(angular rate around y)\", \"wz(angular rate around z)\", \"wf(angular rate around forward axis)\", \"wl(angular rate around leftward axis)\", \"wu(angular rate around upward axis)\"]\n",
    "\n",
    "data = pd.DataFrame(raw_data, columns=column_names)"
   ]
  },
  {
   "cell_type": "code",
   "execution_count": 18,
   "metadata": {},
   "outputs": [],
   "source": [
    "data.head()\n",
    "acc_data = data[[\"ax(acceleration in x)\", \"ay(acceleration in y)\", \"az(acceleration in z)\", \"af(forward acceleration)\", \"al(leftward acceleration)\", \"au(upward acceleration)\"]]\n",
    "ang_data = data[[\"wx(angular rate around x)\", \"wy(angular rate around y)\", \"wz(angular rate around z)\", \"wf(angular rate around forward axis)\", \"wl(angular rate around leftward axis)\", \"wu(angular rate around upward axis)\"]]"
   ]
  },
  {
   "cell_type": "code",
   "execution_count": 20,
   "metadata": {},
   "outputs": [
    {
     "data": {
      "text/html": [
       "<div>\n",
       "<style scoped>\n",
       "    .dataframe tbody tr th:only-of-type {\n",
       "        vertical-align: middle;\n",
       "    }\n",
       "\n",
       "    .dataframe tbody tr th {\n",
       "        vertical-align: top;\n",
       "    }\n",
       "\n",
       "    .dataframe thead th {\n",
       "        text-align: right;\n",
       "    }\n",
       "</style>\n",
       "<table border=\"1\" class=\"dataframe\">\n",
       "  <thead>\n",
       "    <tr style=\"text-align: right;\">\n",
       "      <th></th>\n",
       "      <th>wx(angular rate around x)</th>\n",
       "      <th>wy(angular rate around y)</th>\n",
       "      <th>wz(angular rate around z)</th>\n",
       "      <th>wf(angular rate around forward axis)</th>\n",
       "      <th>wl(angular rate around leftward axis)</th>\n",
       "      <th>wu(angular rate around upward axis)</th>\n",
       "    </tr>\n",
       "  </thead>\n",
       "  <tbody>\n",
       "    <tr>\n",
       "      <th>0</th>\n",
       "      <td>-0.027765</td>\n",
       "      <td>0.008524</td>\n",
       "      <td>0.047937</td>\n",
       "      <td>-0.027371</td>\n",
       "      <td>0.006606</td>\n",
       "      <td>0.048449</td>\n",
       "    </tr>\n",
       "    <tr>\n",
       "      <th>1</th>\n",
       "      <td>-0.025778</td>\n",
       "      <td>0.008029</td>\n",
       "      <td>0.044871</td>\n",
       "      <td>-0.025409</td>\n",
       "      <td>0.006235</td>\n",
       "      <td>0.045351</td>\n",
       "    </tr>\n",
       "    <tr>\n",
       "      <th>2</th>\n",
       "      <td>-0.023791</td>\n",
       "      <td>0.007535</td>\n",
       "      <td>0.041806</td>\n",
       "      <td>-0.023448</td>\n",
       "      <td>0.005864</td>\n",
       "      <td>0.042253</td>\n",
       "    </tr>\n",
       "    <tr>\n",
       "      <th>3</th>\n",
       "      <td>-0.021804</td>\n",
       "      <td>0.007040</td>\n",
       "      <td>0.038741</td>\n",
       "      <td>-0.021486</td>\n",
       "      <td>0.005493</td>\n",
       "      <td>0.039155</td>\n",
       "    </tr>\n",
       "    <tr>\n",
       "      <th>4</th>\n",
       "      <td>-0.019817</td>\n",
       "      <td>0.006546</td>\n",
       "      <td>0.035675</td>\n",
       "      <td>-0.019524</td>\n",
       "      <td>0.005122</td>\n",
       "      <td>0.036057</td>\n",
       "    </tr>\n",
       "  </tbody>\n",
       "</table>\n",
       "</div>"
      ],
      "text/plain": [
       "   wx(angular rate around x)  wy(angular rate around y)  \\\n",
       "0                  -0.027765                   0.008524   \n",
       "1                  -0.025778                   0.008029   \n",
       "2                  -0.023791                   0.007535   \n",
       "3                  -0.021804                   0.007040   \n",
       "4                  -0.019817                   0.006546   \n",
       "\n",
       "   wz(angular rate around z)  wf(angular rate around forward axis)  \\\n",
       "0                   0.047937                             -0.027371   \n",
       "1                   0.044871                             -0.025409   \n",
       "2                   0.041806                             -0.023448   \n",
       "3                   0.038741                             -0.021486   \n",
       "4                   0.035675                             -0.019524   \n",
       "\n",
       "   wl(angular rate around leftward axis)  wu(angular rate around upward axis)  \n",
       "0                               0.006606                             0.048449  \n",
       "1                               0.006235                             0.045351  \n",
       "2                               0.005864                             0.042253  \n",
       "3                               0.005493                             0.039155  \n",
       "4                               0.005122                             0.036057  "
      ]
     },
     "execution_count": 20,
     "metadata": {},
     "output_type": "execute_result"
    }
   ],
   "source": [
    "ang_data.head()"
   ]
  },
  {
   "cell_type": "code",
   "execution_count": null,
   "metadata": {},
   "outputs": [],
   "source": []
  }
 ],
 "metadata": {
  "kernelspec": {
   "display_name": "Python 3 (ipykernel)",
   "language": "python",
   "name": "python3"
  },
  "language_info": {
   "codemirror_mode": {
    "name": "ipython",
    "version": 3
   },
   "file_extension": ".py",
   "mimetype": "text/x-python",
   "name": "python",
   "nbconvert_exporter": "python",
   "pygments_lexer": "ipython3",
   "version": "3.10.1"
  }
 },
 "nbformat": 4,
 "nbformat_minor": 2
}
