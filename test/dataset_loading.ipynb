{
 "cells": [
  {
   "cell_type": "code",
   "execution_count": 151,
   "id": "729d24be-3a36-4e75-96f7-6c5929795a05",
   "metadata": {},
   "outputs": [],
   "source": [
    "# KITTI sequence to raw data map\n",
    "# Nr.     Sequence name     Start   End\n",
    "# ---------------------------------------\n",
    "# 00: 2011_10_03_drive_0027 000000 004540\n",
    "# 01: 2011_10_03_drive_0042 000000 001100\n",
    "# 02: 2011_10_03_drive_0034 000000 004660\n",
    "# 03: 2011_09_26_drive_0067 000000 000800\n",
    "# 04: 2011_09_30_drive_0016 000000 000270\n",
    "# 05: 2011_09_30_drive_0018 000000 002760\n",
    "# 06: 2011_09_30_drive_0020 000000 001100\n",
    "# 07: 2011_09_30_drive_0027 000000 001100\n",
    "# 08: 2011_09_30_drive_0028 001100 005170\n",
    "# 09: 2011_09_30_drive_0033 000000 001590\n",
    "# 10: 2011_09_30_drive_0034 000000 001200\n",
    "\n",
    "import pandas as pd\n",
    "import numpy as np\n",
    "import matplotlib.pyplot as plt\n",
    "import sys\n",
    "from tqdm import tqdm\n",
    "import pykitti\n",
    "sys.path.append('../src')\n",
    "from utils import lla_to_enu, normalize_angles\n",
    "\n",
    "gt = np.load(\"../vo_estimates/trajectory_gt_09.npy\")\n",
    "vo = np.load(\"../vo_estimates/trajectory_estimated_09.npy\")\n",
    "imu = np.load(\"../vo_estimates/imu_09.npy\")\n",
    "\n",
    "%matplotlib inline\n",
    "np.random.seed(777)"
   ]
  },
  {
   "cell_type": "code",
   "execution_count": 152,
   "id": "f003fe05-88aa-497d-ad72-d2c0fd04801b",
   "metadata": {},
   "outputs": [
    {
     "name": "stdout",
     "output_type": "stream",
     "text": [
      "gps data shape: (3, 1591)\n",
      "vo data shape: (1594, 3)\n",
      "imu data shape: (1594, 7)\n"
     ]
    }
   ],
   "source": [
    "print(f'gps data shape: {gt.shape}')\n",
    "print(f'vo data shape: {vo.shape}')\n",
    "print(f'imu data shape: {imu.shape}')"
   ]
  },
  {
   "cell_type": "code",
   "execution_count": 153,
   "id": "39225fa9-ce80-45dd-ac35-2410a1982c82",
   "metadata": {
    "scrolled": true
   },
   "outputs": [
    {
     "data": {
      "text/plain": [
       "array([[ 5.551115e-17,  0.000000e+00,  2.220446e-16],\n",
       "       [ 2.138869e-02, -8.456433e-03,  2.880714e-01],\n",
       "       [ 3.879027e-02, -1.513783e-02,  5.807338e-01],\n",
       "       ...,\n",
       "       [-2.549688e+00,  3.071295e+00,  6.841526e+00],\n",
       "       [-2.775305e+00,  3.058171e+00,  7.528465e+00],\n",
       "       [-3.006582e+00,  3.045729e+00,  8.222648e+00]])"
      ]
     },
     "execution_count": 153,
     "metadata": {},
     "output_type": "execute_result"
    }
   ],
   "source": [
    "# rotate and transform imu and camera coordinate into velodyne coordinate\n",
    "gt.T"
   ]
  },
  {
   "cell_type": "code",
   "execution_count": 154,
   "id": "ff057f16-9aca-498f-9dc6-203fe7eba8a8",
   "metadata": {},
   "outputs": [],
   "source": [
    "kitti_root_dir = '../data'\n",
    "kitti_date = '2011_09_30'\n",
    "kitti_drive = '0033'\n",
    "\n",
    "dataset = pykitti.raw(kitti_root_dir, kitti_date, kitti_drive)"
   ]
  },
  {
   "cell_type": "code",
   "execution_count": 198,
   "id": "64ad7604-6f8a-4ec5-8074-519ecdab43e4",
   "metadata": {},
   "outputs": [],
   "source": [
    "GPS_measurements = []  # [longitude(deg), latitude(deg), altitude(meter)] x N from GPS\n",
    "VO_measurements = [] # [longitude(deg), latitude(deg)] x N from Visual Odometry\n",
    "IMU_outputs = [] # [acc_x, acc_y, acc_z, ang_vel_x, ang_vel_y, ang_vel_z] x N from IMU\n",
    "INS_angles = [] # [roll(rad), pitch(rad), yaw(rad)] x N\n",
    "INS_velocities = [] # [forward velocity, leftward velocity, upward velocity] x N from INS\n",
    "\n",
    "for oxts_data in dataset.oxts:\n",
    "    packet = oxts_data.packet\n",
    "    GPS_measurements.append([\n",
    "        packet.lon,\n",
    "        packet.lat,\n",
    "        packet.alt\n",
    "    ])\n",
    "    # when VO is available\n",
    "    # VO_measurements.append([])\n",
    "    IMU_outputs.append([\n",
    "        packet.ax,\n",
    "        packet.ay,\n",
    "        packet.az,\n",
    "        packet.wx,\n",
    "        packet.wy,\n",
    "        packet.wz\n",
    "    ])\n",
    "    INS_angles.append([\n",
    "        packet.roll,\n",
    "        packet.pitch,\n",
    "        packet.yaw\n",
    "    ])\n",
    "    INS_velocities.append([\n",
    "        packet.vf,\n",
    "        packet.vl,\n",
    "        packet.vu\n",
    "    ])\n",
    "\n",
    "GPS_measurements = np.array(GPS_measurements).T\n",
    "VO_measurements = np.array(VO_measurements).T\n",
    "IMU_outputs = np.array(IMU_outputs)\n",
    "INS_angles = np.array(INS_angles)\n",
    "INS_velocities = np.array(INS_velocities)"
   ]
  },
  {
   "cell_type": "code",
   "execution_count": 199,
   "id": "f058a243-e166-47d5-87f5-bc1a220e3bee",
   "metadata": {},
   "outputs": [],
   "source": [
    "origin = GPS_measurements[:, 0]  # set the initial position to the origin\n",
    "GPS_measurements_in_meter = lla_to_enu(GPS_measurements, origin)"
   ]
  },
  {
   "cell_type": "code",
   "execution_count": 200,
   "id": "740ba654-c962-4a63-b806-effc34bb5ee3",
   "metadata": {},
   "outputs": [
    {
     "name": "stdout",
     "output_type": "stream",
     "text": [
      "gps data shape: (3, 1591)\n",
      "vo data shape: (1594, 3)\n",
      "imu data shape: (1594, 7)\n"
     ]
    }
   ],
   "source": [
    "print(f'gps data shape: {gt.shape}')\n",
    "print(f'vo data shape: {vo.shape}')\n",
    "print(f'imu data shape: {imu.shape}')"
   ]
  },
  {
   "cell_type": "code",
   "execution_count": 201,
   "id": "37fc78e0-2476-42d5-aca8-00275120d5a6",
   "metadata": {},
   "outputs": [
    {
     "name": "stdout",
     "output_type": "stream",
     "text": [
      "gps data shape: (3, 1594)\n",
      "vo data shape: (1594, 3)\n",
      "imu data shape: (1594, 6)\n"
     ]
    }
   ],
   "source": [
    "print(f'gps data shape: {GPS_measurements.shape}')\n",
    "print(f'vo data shape: {vo.shape}')\n",
    "print(f'imu data shape: {IMU_outputs.shape}')"
   ]
  },
  {
   "cell_type": "code",
   "execution_count": 202,
   "id": "735ec9dd-11a5-4277-a986-34ec9d616c01",
   "metadata": {},
   "outputs": [],
   "source": [
    "def get_rigid_transformation(calib_path):\n",
    "    with open(calib_path, 'r') as f:\n",
    "        calib = f.readlines()\n",
    "\n",
    "    R = np.array([float(x) for x in calib[1].strip().split(' ')[1:]]).reshape((3, 3))\n",
    "    t = np.array([float(x) for x in calib[2].strip().split(' ')[1:]])[:, None]\n",
    "\n",
    "    T = np.vstack((np.hstack((R, t)), np.array([0, 0, 0, 1])))\n",
    "    \n",
    "    return T"
   ]
  },
  {
   "cell_type": "code",
   "execution_count": 203,
   "id": "8cda251b-9cc9-47a0-a4c3-5aa1b060c0a0",
   "metadata": {},
   "outputs": [],
   "source": [
    "T_velo_ref0 = get_rigid_transformation('../vo_estimates/calib_velo_to_cam.txt')\n",
    "T_imu_velo = get_rigid_transformation('../vo_estimates/calib_imu_to_velo.txt')"
   ]
  },
  {
   "cell_type": "code",
   "execution_count": 204,
   "id": "3d226b1b-a726-48ef-929a-d384af5b71ac",
   "metadata": {
    "scrolled": true
   },
   "outputs": [],
   "source": [
    "T_from_imu_to_cam = T_imu_velo @ T_velo_ref0\n",
    "T_from_cam_to_imu = np.linalg.inv(T_from_imu_to_cam)\n",
    "\n",
    "\n",
    "imu_in_cam_coord = []\n",
    "for imu_vals in imu:\n",
    "    acc_imu = np.array([imu_vals[1], imu_vals[2], imu_vals[3], 1])\n",
    "    gyr_imu = np.array([imu_vals[4], imu_vals[5], imu_vals[6], 1])\n",
    "    transformed_acc_imu = T_from_imu_to_cam @ acc_imu\n",
    "    transformed_gyr_imu = T_from_imu_to_cam @ gyr_imu\n",
    "    imu_in_cam_coord.append([imu_vals[0], transformed_acc_imu[0], transformed_acc_imu[1], transformed_acc_imu[2], transformed_gyr_imu[0], transformed_gyr_imu[1], transformed_gyr_imu[2]])\n",
    "\n",
    "cam_in_imu_coord = []\n",
    "for vo_est in vo:\n",
    "    VO = np.array([vo_est[0], vo_est[1], vo_est[2], 1])\n",
    "    transformed = T_from_cam_to_imu @ VO\n",
    "    cam_in_imu_coord.append([transformed[0], transformed[1], transformed[2]])\n",
    "\n",
    "gt_in_imu_coord = []\n",
    "for gt_est in gt.T:\n",
    "    GT = np.array([gt_est[0], gt_est[1], gt_est[2], 1])\n",
    "    transformed = T_from_cam_to_imu @ GT\n",
    "    gt_in_imu_coord.append([transformed[0], transformed[1], transformed[2]])\n",
    "\n",
    "gps_in_imu_coord = []\n",
    "for gps_value in GPS_measurements_in_meter.T:\n",
    "    gps = np.array([gps_value[0], gps_value[1], gps_value[2], 1])\n",
    "    transformed = T_from_imu_to_cam @ gps\n",
    "    gps_in_imu_coord.append([transformed[0], transformed[1], transformed[2]])\n",
    "    \n",
    "imu_in_cam_coord = np.array(imu_in_cam_coord)\n",
    "cam_in_imu_coord = np.array(cam_in_imu_coord)\n",
    "gt_in_imu_coord = np.array(gt_in_imu_coord)\n",
    "gps_in_imu_coord = np.array(gps_in_imu_coord)[:len(gt_in_imu_coord), :]\n"
   ]
  },
  {
   "cell_type": "code",
   "execution_count": 205,
   "id": "67c0cf1e-c95e-4a61-9e05-7f66820ab700",
   "metadata": {
    "scrolled": true
   },
   "outputs": [
    {
     "data": {
      "text/plain": [
       "array([-0.81519093,  0.24968862, -1.13444189])"
      ]
     },
     "execution_count": 205,
     "metadata": {},
     "output_type": "execute_result"
    }
   ],
   "source": [
    "gps_in_imu_coord[0, :]"
   ]
  },
  {
   "cell_type": "code",
   "execution_count": 206,
   "id": "fab03774-fef5-4380-85d2-85d8e12030a4",
   "metadata": {},
   "outputs": [
    {
     "data": {
      "text/plain": [
       "array([8.476147  , 8.4761507 , 8.4761541 , ..., 8.47627411, 8.47628467,\n",
       "       8.47629434])"
      ]
     },
     "execution_count": 206,
     "metadata": {},
     "output_type": "execute_result"
    }
   ],
   "source": [
    "GPS_measurements[0, :]"
   ]
  },
  {
   "cell_type": "code",
   "execution_count": 207,
   "id": "73865a54-0066-4528-9441-1e22d04136ed",
   "metadata": {},
   "outputs": [
    {
     "data": {
      "text/plain": [
       "(1591, 3)"
      ]
     },
     "execution_count": 207,
     "metadata": {},
     "output_type": "execute_result"
    }
   ],
   "source": [
    "gt_in_imu_coord.shape"
   ]
  },
  {
   "cell_type": "code",
   "execution_count": 208,
   "id": "23806db8-d35d-4697-976e-e8f9e953bbff",
   "metadata": {},
   "outputs": [
    {
     "data": {
      "text/plain": [
       "(1591, 3)"
      ]
     },
     "execution_count": 208,
     "metadata": {},
     "output_type": "execute_result"
    }
   ],
   "source": [
    "gps_in_imu_coord.shape"
   ]
  },
  {
   "cell_type": "code",
   "execution_count": 244,
   "id": "13c71ea3-b74a-49d3-b4bd-85ca930dc78d",
   "metadata": {},
   "outputs": [
    {
     "data": {
      "image/png": "[encoded data removed]",
      "text/plain": [
       "<Figure size 800x600 with 1 Axes>"
      ]
     },
     "metadata": {},
     "output_type": "display_data"
    }
   ],
   "source": [
    "fig, ax = plt.subplots(1, 1, figsize=(8, 6))\n",
    "\n",
    "xs, ys, _ = GPS_measurements_in_meter[:, :gt_in_imu_coord_pd.shape[0]]\n",
    "# xs, ys, _ = gps_in_imu_coord.T\n",
    "ax.plot(xs, ys, lw=2, c='r', label=\"GPS no coordinate transformation\")\n",
    "\n",
    "xs, ys, _ = gt_in_imu_coord.T\n",
    "ax.plot(xs, ys, lw=2, c='b', label=\"Ground truth with coordinate transformation\")\n",
    "\n",
    "# ax.set_xlim(-100, 450)\n",
    "# ax.set_ylim(-100, 450)\n",
    "ax.set_xlabel('X [m]')\n",
    "ax.set_ylabel('Y [m]')\n",
    "ax.legend()\n",
    "ax.grid()"
   ]
  },
  {
   "cell_type": "code",
   "execution_count": 212,
   "id": "71ea122c-58df-4229-b97f-3ce4f963b30b",
   "metadata": {},
   "outputs": [
    {
     "data": {
      "text/plain": [
       "array([[ 0.        ,  0.56484234, -0.26010583],\n",
       "       [ 0.11      ,  0.47516424,  0.08786964],\n",
       "       [ 0.21      ,  0.66123157,  0.09608404],\n",
       "       [ 0.31      ,  0.9076221 ,  0.19858183],\n",
       "       [ 0.42      ,  0.99417759,  0.47077232],\n",
       "       [ 0.52      ,  0.96916294,  0.33191918]])"
      ]
     },
     "execution_count": 212,
     "metadata": {},
     "output_type": "execute_result"
    }
   ],
   "source": [
    "imu[:6, :3]"
   ]
  },
  {
   "cell_type": "code",
   "execution_count": 211,
   "id": "ec6ea6e4-e8c9-48c9-bce7-7ceb58beef59",
   "metadata": {},
   "outputs": [
    {
     "data": {
      "text/plain": [
       "array([[ 0.56484234, -0.26010583, 10.04488795],\n",
       "       [ 0.47516424,  0.08786964,  9.78647793],\n",
       "       [ 0.66123157,  0.09608404,  9.50853161],\n",
       "       [ 0.9076221 ,  0.19858183,  9.49410284],\n",
       "       [ 0.99417759,  0.47077232,  9.86588825]])"
      ]
     },
     "execution_count": 211,
     "metadata": {},
     "output_type": "execute_result"
    }
   ],
   "source": [
    "IMU_outputs[:5, :3]"
   ]
  },
  {
   "cell_type": "code",
   "execution_count": 213,
   "id": "c14f378e-236e-4ce6-bf36-ee45fe9d64eb",
   "metadata": {},
   "outputs": [
    {
     "data": {
      "text/plain": [
       "array([[ 0.        , -0.55954953, -9.80354704],\n",
       "       [ 0.11      , -0.90778079, -9.54342035],\n",
       "       [ 0.21      , -0.91486517, -9.26868791],\n",
       "       [ 0.31      , -1.01612169, -9.25840473],\n",
       "       [ 0.42      , -1.28814622, -9.63144038]])"
      ]
     },
     "execution_count": 213,
     "metadata": {},
     "output_type": "execute_result"
    }
   ],
   "source": [
    "imu_in_cam_coord[:5, :3]"
   ]
  },
  {
   "cell_type": "code",
   "execution_count": 225,
   "id": "56b286cb-b9c3-4ea1-935f-3d6fc7fec39a",
   "metadata": {},
   "outputs": [
    {
     "data": {
      "text/plain": [
       "array([[ 1.14259534, -0.8096661 ,  0.2296859 ],\n",
       "       [ 1.43087229, -0.82961907,  0.23320554],\n",
       "       [ 1.72368929, -0.84556089,  0.23487489],\n",
       "       ...,\n",
       "       [ 7.91784827,  1.77617269, -2.95616076],\n",
       "       [ 8.60377678,  2.00521432, -2.95460759],\n",
       "       [ 9.29690824,  2.23995254, -2.95385594]])"
      ]
     },
     "execution_count": 225,
     "metadata": {},
     "output_type": "execute_result"
    }
   ],
   "source": [
    "gt_in_imu_coord"
   ]
  },
  {
   "cell_type": "code",
   "execution_count": 229,
   "id": "09dbd2da-b538-4a48-b2bc-81e44518df19",
   "metadata": {},
   "outputs": [
    {
     "data": {
      "text/plain": [
       "array([[ 0.        ,  0.        ,  0.        ],\n",
       "       [ 0.27105023, -0.14811387,  0.01792907],\n",
       "       [ 0.52005461, -0.28641655,  0.03144834],\n",
       "       ...,\n",
       "       [ 9.3069981 , -1.49015372, -2.77693872],\n",
       "       [10.08002302, -1.59750764, -2.75026755],\n",
       "       [10.78814003, -1.69375977, -2.72133807]])"
      ]
     },
     "execution_count": 229,
     "metadata": {},
     "output_type": "execute_result"
    }
   ],
   "source": [
    "GPS_measurements_in_meter.T"
   ]
  },
  {
   "cell_type": "code",
   "execution_count": 236,
   "id": "a6321255-b688-4b9a-859b-3babeac09de4",
   "metadata": {},
   "outputs": [
    {
     "data": {
      "text/plain": [
       "(1594, 6)"
      ]
     },
     "execution_count": 236,
     "metadata": {},
     "output_type": "execute_result"
    }
   ],
   "source": []
  },
  {
   "cell_type": "code",
   "execution_count": null,
   "id": "711b3999-3a44-49f8-9edd-7716681bf317",
   "metadata": {},
   "outputs": [],
   "source": []
  }
 ],
 "metadata": {
  "kernelspec": {
   "display_name": "Python 3 (ipykernel)",
   "language": "python",
   "name": "python3"
  },
  "language_info": {
   "codemirror_mode": {
    "name": "ipython",
    "version": 3
   },
   "file_extension": ".py",
   "mimetype": "text/x-python",
   "name": "python",
   "nbconvert_exporter": "python",
   "pygments_lexer": "ipython3",
   "version": "3.10.1"
  }
 },
 "nbformat": 4,
 "nbformat_minor": 5
}
